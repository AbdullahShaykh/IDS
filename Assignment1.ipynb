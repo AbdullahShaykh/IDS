{
 "cells": [
  {
   "cell_type": "code",
   "execution_count": 235,
   "metadata": {},
   "outputs": [],
   "source": [
    "import pandas as pd\n",
    "import numpy as np\n",
    "import matplotlib.pyplot as plt\n",
    "import seaborn as sns"
   ]
  },
  {
   "cell_type": "code",
   "execution_count": 236,
   "metadata": {},
   "outputs": [],
   "source": [
    "df = pd.read_csv('the-hello-dataset-fa22.csv')"
   ]
  },
  {
   "cell_type": "code",
   "execution_count": 237,
   "metadata": {},
   "outputs": [
    {
     "data": {
      "text/html": [
       "<div>\n",
       "<style scoped>\n",
       "    .dataframe tbody tr th:only-of-type {\n",
       "        vertical-align: middle;\n",
       "    }\n",
       "\n",
       "    .dataframe tbody tr th {\n",
       "        vertical-align: top;\n",
       "    }\n",
       "\n",
       "    .dataframe thead th {\n",
       "        text-align: right;\n",
       "    }\n",
       "</style>\n",
       "<table border=\"1\" class=\"dataframe\">\n",
       "  <thead>\n",
       "    <tr style=\"text-align: right;\">\n",
       "      <th></th>\n",
       "      <th>Name</th>\n",
       "      <th>Gender</th>\n",
       "      <th>HSSC-1</th>\n",
       "      <th>HSSC-2</th>\n",
       "      <th>CGPA</th>\n",
       "      <th>FavoriteColor</th>\n",
       "      <th>BirthMonth</th>\n",
       "      <th>Weight</th>\n",
       "    </tr>\n",
       "  </thead>\n",
       "  <tbody>\n",
       "    <tr>\n",
       "      <th>9</th>\n",
       "      <td>Hamza Naveed</td>\n",
       "      <td>Male</td>\n",
       "      <td>459</td>\n",
       "      <td>459</td>\n",
       "      <td>2.80</td>\n",
       "      <td>Blue</td>\n",
       "      <td>May</td>\n",
       "      <td>58.0</td>\n",
       "    </tr>\n",
       "    <tr>\n",
       "      <th>21</th>\n",
       "      <td>Habib Ullah</td>\n",
       "      <td>Male</td>\n",
       "      <td>399</td>\n",
       "      <td>434</td>\n",
       "      <td>3.35</td>\n",
       "      <td>Mustard</td>\n",
       "      <td>April</td>\n",
       "      <td>60.0</td>\n",
       "    </tr>\n",
       "    <tr>\n",
       "      <th>22</th>\n",
       "      <td>Hunain Javed</td>\n",
       "      <td>Male</td>\n",
       "      <td>362</td>\n",
       "      <td>413</td>\n",
       "      <td>2.94</td>\n",
       "      <td>Black</td>\n",
       "      <td>September</td>\n",
       "      <td>76.0</td>\n",
       "    </tr>\n",
       "    <tr>\n",
       "      <th>58</th>\n",
       "      <td>Hafiz Malahim Labib.</td>\n",
       "      <td>Male</td>\n",
       "      <td>390</td>\n",
       "      <td>430</td>\n",
       "      <td>3.24</td>\n",
       "      <td>Orange</td>\n",
       "      <td>May</td>\n",
       "      <td>54.0</td>\n",
       "    </tr>\n",
       "    <tr>\n",
       "      <th>60</th>\n",
       "      <td>HAMNA TARIQ SALEEMI</td>\n",
       "      <td>Female</td>\n",
       "      <td>400</td>\n",
       "      <td>418</td>\n",
       "      <td>2.80</td>\n",
       "      <td>Black</td>\n",
       "      <td>October</td>\n",
       "      <td>62.0</td>\n",
       "    </tr>\n",
       "    <tr>\n",
       "      <th>77</th>\n",
       "      <td>Hina</td>\n",
       "      <td>Female</td>\n",
       "      <td>410</td>\n",
       "      <td>350</td>\n",
       "      <td>2.90</td>\n",
       "      <td>Blue</td>\n",
       "      <td>August</td>\n",
       "      <td>67.0</td>\n",
       "    </tr>\n",
       "    <tr>\n",
       "      <th>78</th>\n",
       "      <td>Hamza Javed Khan</td>\n",
       "      <td>Male</td>\n",
       "      <td>400</td>\n",
       "      <td>381</td>\n",
       "      <td>3.39</td>\n",
       "      <td>Blue</td>\n",
       "      <td>January</td>\n",
       "      <td>78.0</td>\n",
       "    </tr>\n",
       "    <tr>\n",
       "      <th>80</th>\n",
       "      <td>Husnain Ahmed</td>\n",
       "      <td>Male</td>\n",
       "      <td>335</td>\n",
       "      <td>427</td>\n",
       "      <td>2.41</td>\n",
       "      <td>Dark blue</td>\n",
       "      <td>September</td>\n",
       "      <td>72.0</td>\n",
       "    </tr>\n",
       "    <tr>\n",
       "      <th>93</th>\n",
       "      <td>Hamayoun Masroor</td>\n",
       "      <td>Male</td>\n",
       "      <td>428</td>\n",
       "      <td>428</td>\n",
       "      <td>3.16</td>\n",
       "      <td>Pink</td>\n",
       "      <td>September</td>\n",
       "      <td>63.0</td>\n",
       "    </tr>\n",
       "    <tr>\n",
       "      <th>98</th>\n",
       "      <td>Hussain afzal</td>\n",
       "      <td>Male</td>\n",
       "      <td>415</td>\n",
       "      <td>346</td>\n",
       "      <td>2.87</td>\n",
       "      <td>Blue</td>\n",
       "      <td>March</td>\n",
       "      <td>81.0</td>\n",
       "    </tr>\n",
       "  </tbody>\n",
       "</table>\n",
       "</div>"
      ],
      "text/plain": [
       "                    Name  Gender  HSSC-1  HSSC-2  CGPA FavoriteColor  \\\n",
       "9           Hamza Naveed    Male     459     459  2.80          Blue   \n",
       "21           Habib Ullah    Male     399     434  3.35       Mustard   \n",
       "22          Hunain Javed    Male     362     413  2.94         Black   \n",
       "58  Hafiz Malahim Labib.    Male     390     430  3.24        Orange   \n",
       "60   HAMNA TARIQ SALEEMI  Female     400     418  2.80         Black   \n",
       "77                  Hina  Female     410     350  2.90          Blue   \n",
       "78      Hamza Javed Khan    Male     400     381  3.39          Blue   \n",
       "80        Husnain Ahmed     Male     335     427  2.41     Dark blue   \n",
       "93      Hamayoun Masroor    Male     428     428  3.16          Pink   \n",
       "98         Hussain afzal    Male     415     346  2.87          Blue   \n",
       "\n",
       "   BirthMonth  Weight  \n",
       "9         May    58.0  \n",
       "21      April    60.0  \n",
       "22  September    76.0  \n",
       "58        May    54.0  \n",
       "60    October    62.0  \n",
       "77     August    67.0  \n",
       "78   January     78.0  \n",
       "80  September    72.0  \n",
       "93  September    63.0  \n",
       "98      March    81.0  "
      ]
     },
     "execution_count": 237,
     "metadata": {},
     "output_type": "execute_result"
    }
   ],
   "source": [
    "df[df[\"Name\"].str.startswith('H', na = False)]"
   ]
  },
  {
   "cell_type": "code",
   "execution_count": null,
   "metadata": {},
   "outputs": [],
   "source": []
  },
  {
   "cell_type": "code",
   "execution_count": 238,
   "metadata": {},
   "outputs": [
    {
     "name": "stdout",
     "output_type": "stream",
     "text": [
      "percentage of students who have a CGPA of 3.0 or above: 28.35820895522388\n"
     ]
    }
   ],
   "source": [
    "df['CGPA'] = df['CGPA'].astype(float)\n",
    "percentage = ((df['CGPA']>=3.0).sum()/df['CGPA'].count())*100\n",
    "print(\"percentage of students who have a CGPA of 3.0 or above:\",percentage)"
   ]
  },
  {
   "cell_type": "code",
   "execution_count": 239,
   "metadata": {},
   "outputs": [
    {
     "data": {
      "image/png": "[encoded data removed]",
      "text/plain": [
       "<Figure size 432x288 with 1 Axes>"
      ]
     },
     "metadata": {},
     "output_type": "display_data"
    }
   ],
   "source": [
    "ax = df.groupby(['Gender']).sum().plot(kind='pie',y='CGPA')"
   ]
  },
  {
   "cell_type": "code",
   "execution_count": 240,
   "metadata": {},
   "outputs": [
    {
     "data": {
      "image/png": "[encoded data removed]",
      "text/plain": [
       "<Figure size 432x288 with 1 Axes>"
      ]
     },
     "metadata": {
      "needs_background": "light"
     },
     "output_type": "display_data"
    }
   ],
   "source": [
    "ax = df.plot.hist(column=['CGPA'],bins=4,y='CGPA')"
   ]
  },
  {
   "cell_type": "code",
   "execution_count": 241,
   "metadata": {},
   "outputs": [
    {
     "data": {
      "image/png": "[encoded data removed]",
      "text/plain": [
       "<Figure size 432x288 with 1 Axes>"
      ]
     },
     "metadata": {
      "needs_background": "light"
     },
     "output_type": "display_data"
    }
   ],
   "source": [
    "ax = df.plot.scatter(x = 'CGPA', y = 'Gender', s = 'CGPA', c = 'blue');"
   ]
  },
  {
   "cell_type": "code",
   "execution_count": 242,
   "metadata": {},
   "outputs": [
    {
     "data": {
      "image/png": "[encoded data removed]",
      "text/plain": [
       "<Figure size 432x288 with 1 Axes>"
      ]
     },
     "metadata": {
      "needs_background": "light"
     },
     "output_type": "display_data"
    }
   ],
   "source": [
    "monthCount = []\n",
    "month = [\"January\",\"February\",\"March\",\"April\",\"May\",\"June\",\"July\",\"August\",\"September\",\"October\",\"November\",\"December\"]\n",
    "monthCount.append((df['BirthMonth']=='January ').sum())\n",
    "monthCount.append((df['BirthMonth']=='February').sum())\n",
    "monthCount.append((df['BirthMonth']=='March').sum())\n",
    "monthCount.append((df['BirthMonth']=='April').sum())\n",
    "monthCount.append((df['BirthMonth']=='May').sum())\n",
    "monthCount.append((df['BirthMonth']=='June').sum())\n",
    "monthCount.append((df['BirthMonth']=='July').sum())\n",
    "monthCount.append((df['BirthMonth']=='August').sum())\n",
    "monthCount.append((df['BirthMonth']=='September').sum())\n",
    "monthCount.append((df['BirthMonth']=='October').sum())\n",
    "monthCount.append((df['BirthMonth']=='November ').sum())\n",
    "monthCount.append((df['BirthMonth']=='December').sum())\n",
    "plt.plot(month,monthCount)\n",
    "plt.show()"
   ]
  },
  {
   "cell_type": "code",
   "execution_count": 246,
   "metadata": {},
   "outputs": [
    {
     "data": {
      "image/png": "[encoded data removed]",
      "text/plain": [
       "<Figure size 432x288 with 2 Axes>"
      ]
     },
     "metadata": {
      "needs_background": "light"
     },
     "output_type": "display_data"
    }
   ],
   "source": [
    "sns.heatmap(df[[\"HSSC-1\",\"HSSC-2\"]].corr());"
   ]
  }
 ],
 "metadata": {
  "kernelspec": {
   "display_name": "Python 3.9.12 ('base')",
   "language": "python",
   "name": "python3"
  },
  "language_info": {
   "codemirror_mode": {
    "name": "ipython",
    "version": 3
   },
   "file_extension": ".py",
   "mimetype": "text/x-python",
   "name": "python",
   "nbconvert_exporter": "python",
   "pygments_lexer": "ipython3",
   "version": "3.9.12"
  },
  "orig_nbformat": 4,
  "vscode": {
   "interpreter": {
    "hash": "16d288b990c894961c2b35d41e3bbe809c434032df198bf6c1ac2e7c88f8f384"
   }
  }
 },
 "nbformat": 4,
 "nbformat_minor": 2
}
