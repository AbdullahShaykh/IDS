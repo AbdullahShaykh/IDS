{
 "cells": [
  {
   "cell_type": "code",
   "execution_count": null,
   "metadata": {},
   "outputs": [],
   "source": [
    "from math import sqrt"
   ]
  },
  {
   "cell_type": "code",
   "execution_count": null,
   "metadata": {},
   "outputs": [],
   "source": [
    "# Computing the BoW model for each sentence\n",
    "s1 = \"sunshine state enjoy sunshine\"\n",
    "s2 = \"brown fox jump high, brown fox run\"\n",
    "s3 = \"sunshine state fox run fast\""
   ]
  },
  {
   "cell_type": "code",
   "execution_count": null,
   "metadata": {},
   "outputs": [],
   "source": [
    "bow_s1 = {}\n",
    "bow_s2 = {}\n",
    "bow_s3 = {}"
   ]
  },
  {
   "cell_type": "code",
   "execution_count": null,
   "metadata": {},
   "outputs": [],
   "source": [
    "for word in s1.split():\n",
    " if word in bow_s1:\n",
    "    bow_s1[word] += 1\n",
    "else:\n",
    "    bow_s1[word] = 1\n",
    "for word in s2.split():\n",
    " if word in bow_s2:\n",
    "    bow_s2[word] += 1\n",
    "else:\n",
    "    bow_s2[word] = 1\n",
    "for word in s3.split():\n",
    " if word in bow_s3:\n",
    "    bow_s3[word] += 1\n",
    "else:\n",
    "    bow_s3[word] = 1"
   ]
  },
  {
   "cell_type": "code",
   "execution_count": null,
   "metadata": {},
   "outputs": [],
   "source": [
    "# Computing the TF model for each term in each sentence\n",
    "# Sentence 1\n",
    "s1 = \"sunshine state enjoy sunshine\"\n",
    "tf_s1 = {}\n",
    "for word in s1.split():\n",
    " if word in tf_s1:\n",
    "    tf_s1[word] += 1\n",
    "else:\n",
    " tf_s1[word] = 1"
   ]
  },
  {
   "cell_type": "code",
   "execution_count": null,
   "metadata": {},
   "outputs": [],
   "source": [
    "# Divide the count of each word by the total number of words in the sentence\n",
    "for word in tf_s1:\n",
    " tf_s1[word] = tf_s1[word] / len(s1.split())\n",
    "print(tf_s1)"
   ]
  },
  {
   "cell_type": "code",
   "execution_count": null,
   "metadata": {},
   "outputs": [],
   "source": [
    "# Sentence 2\n",
    "s2 = \"brown fox jump high, brown fox run\"\n",
    "tf_s2 = {}\n",
    "for word in s2.split():\n",
    " if word in tf_s2:\n",
    "    tf_s2[word] += 1\n",
    "else:\n",
    "    tf_s2[word] = 1"
   ]
  },
  {
   "cell_type": "code",
   "execution_count": null,
   "metadata": {},
   "outputs": [],
   "source": [
    "# Divide the count of each word by the total number of words in the sentence\n",
    "for word in tf_s2:\n",
    " tf_s2[word] = tf_s2[word] / len(s2.split())\n",
    "print(tf_s2)"
   ]
  },
  {
   "cell_type": "code",
   "execution_count": null,
   "metadata": {},
   "outputs": [],
   "source": [
    "# Sentence 3\n",
    "s3 = \"sunshine state fox run fast\"\n",
    "tf_s3 = {}\n",
    "for word in s3.split():\n",
    " if word in tf_s3:\n",
    "  tf_s3[word] += 1\n",
    "else:\n",
    "  tf_s3[word] = 1"
   ]
  },
  {
   "cell_type": "code",
   "execution_count": null,
   "metadata": {},
   "outputs": [],
   "source": [
    "# Divide the count of each word by the total number of words in the sentence\n",
    "for word in tf_s3:\n",
    " tf_s3[word] = tf_s3[word] / len(s3.split())\n",
    "print(tf_s3)"
   ]
  },
  {
   "cell_type": "code",
   "execution_count": null,
   "metadata": {},
   "outputs": [],
   "source": [
    "# Compute the IDF model\n",
    "idf = {}\n",
    "for word in set(s1.split() + s2.split() + s3.split()):\n",
    " n = sum([1 for sentence in [s1, s2, s3] if word in sentence])\n",
    " idf[word] = log(3/n)\n",
    "print(idf)"
   ]
  },
  {
   "cell_type": "code",
   "execution_count": null,
   "metadata": {},
   "outputs": [],
   "source": [
    "# Calculate the TF.IDF values for each term in each sentence\n",
    "tfidf_s1 = {}\n",
    "tfidf_s2 = {}\n",
    "tfidf_s3 = {}\n",
    "for word in bow_s1:\n",
    " tfidf_s1[word] = (bow_s1[word]/sum(bow_s1.values())) * idf[word]\n",
    "for word in bow_s2:\n",
    " tfidf_s2[word] = (bow_s2[word]/sum(bow_s2.values())) * idf[word]\n",
    "for word in bow_s3:\n",
    " tfidf_s3[word] = (bow_s3[word]/sum(bow_s3.values())) * idf[word]"
   ]
  },
  {
   "cell_type": "code",
   "execution_count": null,
   "metadata": {},
   "outputs": [],
   "source": [
    "print(tfidf_s1)\n",
    "print(tfidf_s2)\n",
    "print(tfidf_s3)"
   ]
  },
  {
   "cell_type": "code",
   "execution_count": null,
   "metadata": {},
   "outputs": [],
   "source": [
    "# Question 2\n",
    "# Sentence vectors\n",
    "s1_vector = [0.5, 0.25, 0.25]\n",
    "s3_vector = [0.2, 0.2, 0.2, 0.2, 0.2]\n",
    "# Compute the dot product\n",
    "dot_product = sum([s1_vector[i] * s3_vector[i] for i in range(len(s1_vector))])\n",
    "# Compute the magnitudes\n",
    "magnitude_s1 = sum([s1_vector[i] ** 2 for i in range(len(s1_vector))]) ** 0.5\n",
    "magnitude_s3 = sum([s3_vector[i] ** 2 for i in range(len(s3_vector))]) ** 0.5\n",
    "# Compute the cosine similarity\n",
    "cosine_similarity = dot_product / (magnitude_s1 * magnitude_s3)\n",
    "print(cosine_similarity)"
   ]
  },
  {
   "cell_type": "code",
   "execution_count": null,
   "metadata": {},
   "outputs": [],
   "source": []
  },
  {
   "cell_type": "code",
   "execution_count": null,
   "metadata": {},
   "outputs": [],
   "source": []
  },
  {
   "cell_type": "code",
   "execution_count": null,
   "metadata": {},
   "outputs": [],
   "source": []
  },
  {
   "cell_type": "code",
   "execution_count": null,
   "metadata": {},
   "outputs": [],
   "source": []
  }
 ],
 "metadata": {
  "kernelspec": {
   "display_name": "pythonProject",
   "language": "python",
   "name": "python3"
  },
  "language_info": {
   "name": "python",
   "version": "3.9.13 (main, Aug 25 2022, 23:51:50) [MSC v.1916 64 bit (AMD64)]"
  },
  "orig_nbformat": 4,
  "vscode": {
   "interpreter": {
    "hash": "bfb0f3143cf091ce88b4b2e791c1e8adceb997632350b8e3fadbb0f4ca3719aa"
   }
  }
 },
 "nbformat": 4,
 "nbformat_minor": 2
}
